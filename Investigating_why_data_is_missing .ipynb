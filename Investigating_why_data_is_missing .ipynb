{
 "cells": [
  {
   "cell_type": "markdown",
   "id": "50effbb7",
   "metadata": {},
   "source": [
    "# Exploratory Data Analysis (EDA) on Lightning Strike Data with Missing Values\n",
    "\n",
    "This notebook focuses on exploring lightning strike data collected by the **National Oceanic and Atmospheric Association (NOAA)** for the month of August 2018.\n",
    "\n",
    "### Dataset 1\n",
    "The first dataset comprises five columns:\n",
    "\n",
    "| date | center_point_geom | longitude | latitude | number_of_strikes |\n",
    "|------|-------------------|-----------|----------|-------------------|\n",
    "|      |                   |           |          |                   |\n",
    "\n",
    "- **date**: Date of the lightning strike.\n",
    "- **center_point_geom**: Geographic location of the lightning strike.\n",
    "- **longitude**: Longitude of the lightning strike.\n",
    "- **latitude**: Latitude of the lightning strike.\n",
    "- **number_of_strikes**: Number of strikes at that location.\n",
    "\n",
    "### Dataset 2\n",
    "\n",
    "The second dataset comprises of seven columns:\n",
    "\n",
    "| date | zip_code | city | state | state_code |  center_point_geom |  number_of_strikes |\n",
    "|------|----------|------|-------|------------|--------------------|--------------------|\n",
    "|      |          |      |       |            |                    |                    |\n",
    "\n",
    "- **date**: Date of the lightning strike.\n",
    "- **zip_code**: Zip code of the lcoation.\n",
    "- **city**: Name of the city.\n",
    "- **state**: Name of the state.\n",
    "- **state_code**: State code .\n",
    "- **center_point_geom**: Geography lcoation of the lightning strike.\n",
    "- **number_of_strikes**: Number of strikes at that location.\n",
    "\n",
    "\n",
    "The second dataset has four unique columns: `zip_code`, `city`, `state`, and `state_code`.  \n",
    "\n",
    "There are three columns that are common between them: `date`, `center_point_geom`, and `number_of_strikes`.\n",
    "\n",
    "\n"
   ]
  },
  {
   "cell_type": "code",
   "execution_count": 1,
   "id": "627c9f3e",
   "metadata": {},
   "outputs": [],
   "source": [
    "#Import necessary libraries \n",
    "\n",
    "import pandas as pd\n",
    "import datetime as dt\n",
    "import matplotlib.pyplot as plt\n",
    "import seaborn as sb "
   ]
  },
  {
   "cell_type": "code",
   "execution_count": 2,
   "id": "569df6a2",
   "metadata": {},
   "outputs": [],
   "source": [
    "#Load the dataset and preview it  \n",
    "\n",
    "Dataset1 = pd.read_csv('eda_missing_data_dataset1.csv')\n",
    "Dataset2 = pd.read_csv('eda_missing_data_dataset2.csv')"
   ]
  },
  {
   "cell_type": "code",
   "execution_count": 3,
   "id": "8983d085",
   "metadata": {},
   "outputs": [
    {
     "data": {
      "text/html": [
       "<div>\n",
       "<style scoped>\n",
       "    .dataframe tbody tr th:only-of-type {\n",
       "        vertical-align: middle;\n",
       "    }\n",
       "\n",
       "    .dataframe tbody tr th {\n",
       "        vertical-align: top;\n",
       "    }\n",
       "\n",
       "    .dataframe thead th {\n",
       "        text-align: right;\n",
       "    }\n",
       "</style>\n",
       "<table border=\"1\" class=\"dataframe\">\n",
       "  <thead>\n",
       "    <tr style=\"text-align: right;\">\n",
       "      <th></th>\n",
       "      <th>date</th>\n",
       "      <th>center_point_geom</th>\n",
       "      <th>longitude</th>\n",
       "      <th>latitude</th>\n",
       "      <th>number_of_strikes</th>\n",
       "    </tr>\n",
       "  </thead>\n",
       "  <tbody>\n",
       "    <tr>\n",
       "      <th>0</th>\n",
       "      <td>2018-08-01</td>\n",
       "      <td>POINT(-81.6 22.6)</td>\n",
       "      <td>-81.6</td>\n",
       "      <td>22.6</td>\n",
       "      <td>48</td>\n",
       "    </tr>\n",
       "    <tr>\n",
       "      <th>1</th>\n",
       "      <td>2018-08-01</td>\n",
       "      <td>POINT(-81.1 22.6)</td>\n",
       "      <td>-81.1</td>\n",
       "      <td>22.6</td>\n",
       "      <td>32</td>\n",
       "    </tr>\n",
       "    <tr>\n",
       "      <th>2</th>\n",
       "      <td>2018-08-01</td>\n",
       "      <td>POINT(-80.9 22.6)</td>\n",
       "      <td>-80.9</td>\n",
       "      <td>22.6</td>\n",
       "      <td>118</td>\n",
       "    </tr>\n",
       "    <tr>\n",
       "      <th>3</th>\n",
       "      <td>2018-08-01</td>\n",
       "      <td>POINT(-80.8 22.6)</td>\n",
       "      <td>-80.8</td>\n",
       "      <td>22.6</td>\n",
       "      <td>69</td>\n",
       "    </tr>\n",
       "    <tr>\n",
       "      <th>4</th>\n",
       "      <td>2018-08-01</td>\n",
       "      <td>POINT(-98.4 22.8)</td>\n",
       "      <td>-98.4</td>\n",
       "      <td>22.8</td>\n",
       "      <td>44</td>\n",
       "    </tr>\n",
       "  </tbody>\n",
       "</table>\n",
       "</div>"
      ],
      "text/plain": [
       "         date  center_point_geom  longitude  latitude  number_of_strikes\n",
       "0  2018-08-01  POINT(-81.6 22.6)      -81.6      22.6                 48\n",
       "1  2018-08-01  POINT(-81.1 22.6)      -81.1      22.6                 32\n",
       "2  2018-08-01  POINT(-80.9 22.6)      -80.9      22.6                118\n",
       "3  2018-08-01  POINT(-80.8 22.6)      -80.8      22.6                 69\n",
       "4  2018-08-01  POINT(-98.4 22.8)      -98.4      22.8                 44"
      ]
     },
     "execution_count": 3,
     "metadata": {},
     "output_type": "execute_result"
    }
   ],
   "source": [
    "Dataset1.head(5)"
   ]
  },
  {
   "cell_type": "code",
   "execution_count": 4,
   "id": "347ed883",
   "metadata": {},
   "outputs": [
    {
     "data": {
      "text/html": [
       "<div>\n",
       "<style scoped>\n",
       "    .dataframe tbody tr th:only-of-type {\n",
       "        vertical-align: middle;\n",
       "    }\n",
       "\n",
       "    .dataframe tbody tr th {\n",
       "        vertical-align: top;\n",
       "    }\n",
       "\n",
       "    .dataframe thead th {\n",
       "        text-align: right;\n",
       "    }\n",
       "</style>\n",
       "<table border=\"1\" class=\"dataframe\">\n",
       "  <thead>\n",
       "    <tr style=\"text-align: right;\">\n",
       "      <th></th>\n",
       "      <th>date</th>\n",
       "      <th>zip_code</th>\n",
       "      <th>city</th>\n",
       "      <th>state</th>\n",
       "      <th>state_code</th>\n",
       "      <th>center_point_geom</th>\n",
       "      <th>number_of_strikes</th>\n",
       "    </tr>\n",
       "  </thead>\n",
       "  <tbody>\n",
       "    <tr>\n",
       "      <th>0</th>\n",
       "      <td>2018-08-08</td>\n",
       "      <td>3281</td>\n",
       "      <td>Weare</td>\n",
       "      <td>New Hampshire</td>\n",
       "      <td>NH</td>\n",
       "      <td>POINT(-71.7 43.1)</td>\n",
       "      <td>1</td>\n",
       "    </tr>\n",
       "    <tr>\n",
       "      <th>1</th>\n",
       "      <td>2018-08-14</td>\n",
       "      <td>6488</td>\n",
       "      <td>Heritage Village CDP</td>\n",
       "      <td>Connecticut</td>\n",
       "      <td>CT</td>\n",
       "      <td>POINT(-73.2 41.5)</td>\n",
       "      <td>3</td>\n",
       "    </tr>\n",
       "    <tr>\n",
       "      <th>2</th>\n",
       "      <td>2018-08-16</td>\n",
       "      <td>97759</td>\n",
       "      <td>Sisters city, Black Butte Ranch CDP</td>\n",
       "      <td>Oregon</td>\n",
       "      <td>OR</td>\n",
       "      <td>POINT(-121.4 44.3)</td>\n",
       "      <td>3</td>\n",
       "    </tr>\n",
       "    <tr>\n",
       "      <th>3</th>\n",
       "      <td>2018-08-18</td>\n",
       "      <td>6776</td>\n",
       "      <td>New Milford CDP</td>\n",
       "      <td>Connecticut</td>\n",
       "      <td>CT</td>\n",
       "      <td>POINT(-73.4 41.6)</td>\n",
       "      <td>48</td>\n",
       "    </tr>\n",
       "    <tr>\n",
       "      <th>4</th>\n",
       "      <td>2018-08-08</td>\n",
       "      <td>1077</td>\n",
       "      <td>Southwick</td>\n",
       "      <td>Massachusetts</td>\n",
       "      <td>MA</td>\n",
       "      <td>POINT(-72.8 42)</td>\n",
       "      <td>2</td>\n",
       "    </tr>\n",
       "  </tbody>\n",
       "</table>\n",
       "</div>"
      ],
      "text/plain": [
       "         date  zip_code                                 city          state  \\\n",
       "0  2018-08-08      3281                                Weare  New Hampshire   \n",
       "1  2018-08-14      6488                 Heritage Village CDP    Connecticut   \n",
       "2  2018-08-16     97759  Sisters city, Black Butte Ranch CDP         Oregon   \n",
       "3  2018-08-18      6776                      New Milford CDP    Connecticut   \n",
       "4  2018-08-08      1077                            Southwick  Massachusetts   \n",
       "\n",
       "  state_code   center_point_geom  number_of_strikes  \n",
       "0         NH   POINT(-71.7 43.1)                  1  \n",
       "1         CT   POINT(-73.2 41.5)                  3  \n",
       "2         OR  POINT(-121.4 44.3)                  3  \n",
       "3         CT   POINT(-73.4 41.6)                 48  \n",
       "4         MA     POINT(-72.8 42)                  2  "
      ]
     },
     "execution_count": 4,
     "metadata": {},
     "output_type": "execute_result"
    }
   ],
   "source": [
    "Dataset2.head(5)"
   ]
  },
  {
   "cell_type": "code",
   "execution_count": 8,
   "id": "f2a4168d",
   "metadata": {},
   "outputs": [
    {
     "name": "stdout",
     "output_type": "stream",
     "text": [
      "The number of rows and columns of Dataset1 is (717530, 5)\n",
      "The number of rows and columns of Dataset2 is (323700, 7)\n"
     ]
    }
   ],
   "source": [
    "#Number of rows and column of each dataset \n",
    "\n",
    "print(f\"The number of rows and columns of Dataset1 is\", Dataset1.shape)\n",
    "print(f\"The number of rows and columns of Dataset2 is\", Dataset2.shape)"
   ]
  },
  {
   "cell_type": "code",
   "execution_count": 11,
   "id": "a562b794",
   "metadata": {},
   "outputs": [
    {
     "data": {
      "text/html": [
       "<div>\n",
       "<style scoped>\n",
       "    .dataframe tbody tr th:only-of-type {\n",
       "        vertical-align: middle;\n",
       "    }\n",
       "\n",
       "    .dataframe tbody tr th {\n",
       "        vertical-align: top;\n",
       "    }\n",
       "\n",
       "    .dataframe thead th {\n",
       "        text-align: right;\n",
       "    }\n",
       "</style>\n",
       "<table border=\"1\" class=\"dataframe\">\n",
       "  <thead>\n",
       "    <tr style=\"text-align: right;\">\n",
       "      <th></th>\n",
       "      <th>date</th>\n",
       "      <th>center_point_geom</th>\n",
       "      <th>longitude</th>\n",
       "      <th>latitude</th>\n",
       "      <th>number_of_strikes_x</th>\n",
       "      <th>zip_code</th>\n",
       "      <th>city</th>\n",
       "      <th>state</th>\n",
       "      <th>state_code</th>\n",
       "      <th>number_of_strikes_y</th>\n",
       "    </tr>\n",
       "  </thead>\n",
       "  <tbody>\n",
       "    <tr>\n",
       "      <th>0</th>\n",
       "      <td>2018-08-01</td>\n",
       "      <td>POINT(-81.6 22.6)</td>\n",
       "      <td>-81.6</td>\n",
       "      <td>22.6</td>\n",
       "      <td>48</td>\n",
       "      <td>NaN</td>\n",
       "      <td>NaN</td>\n",
       "      <td>NaN</td>\n",
       "      <td>NaN</td>\n",
       "      <td>NaN</td>\n",
       "    </tr>\n",
       "    <tr>\n",
       "      <th>1</th>\n",
       "      <td>2018-08-01</td>\n",
       "      <td>POINT(-81.1 22.6)</td>\n",
       "      <td>-81.1</td>\n",
       "      <td>22.6</td>\n",
       "      <td>32</td>\n",
       "      <td>NaN</td>\n",
       "      <td>NaN</td>\n",
       "      <td>NaN</td>\n",
       "      <td>NaN</td>\n",
       "      <td>NaN</td>\n",
       "    </tr>\n",
       "    <tr>\n",
       "      <th>2</th>\n",
       "      <td>2018-08-01</td>\n",
       "      <td>POINT(-80.9 22.6)</td>\n",
       "      <td>-80.9</td>\n",
       "      <td>22.6</td>\n",
       "      <td>118</td>\n",
       "      <td>NaN</td>\n",
       "      <td>NaN</td>\n",
       "      <td>NaN</td>\n",
       "      <td>NaN</td>\n",
       "      <td>NaN</td>\n",
       "    </tr>\n",
       "    <tr>\n",
       "      <th>3</th>\n",
       "      <td>2018-08-01</td>\n",
       "      <td>POINT(-80.8 22.6)</td>\n",
       "      <td>-80.8</td>\n",
       "      <td>22.6</td>\n",
       "      <td>69</td>\n",
       "      <td>NaN</td>\n",
       "      <td>NaN</td>\n",
       "      <td>NaN</td>\n",
       "      <td>NaN</td>\n",
       "      <td>NaN</td>\n",
       "    </tr>\n",
       "    <tr>\n",
       "      <th>4</th>\n",
       "      <td>2018-08-01</td>\n",
       "      <td>POINT(-98.4 22.8)</td>\n",
       "      <td>-98.4</td>\n",
       "      <td>22.8</td>\n",
       "      <td>44</td>\n",
       "      <td>NaN</td>\n",
       "      <td>NaN</td>\n",
       "      <td>NaN</td>\n",
       "      <td>NaN</td>\n",
       "      <td>NaN</td>\n",
       "    </tr>\n",
       "  </tbody>\n",
       "</table>\n",
       "</div>"
      ],
      "text/plain": [
       "         date  center_point_geom  longitude  latitude  number_of_strikes_x  \\\n",
       "0  2018-08-01  POINT(-81.6 22.6)      -81.6      22.6                   48   \n",
       "1  2018-08-01  POINT(-81.1 22.6)      -81.1      22.6                   32   \n",
       "2  2018-08-01  POINT(-80.9 22.6)      -80.9      22.6                  118   \n",
       "3  2018-08-01  POINT(-80.8 22.6)      -80.8      22.6                   69   \n",
       "4  2018-08-01  POINT(-98.4 22.8)      -98.4      22.8                   44   \n",
       "\n",
       "   zip_code city state state_code  number_of_strikes_y  \n",
       "0       NaN  NaN   NaN        NaN                  NaN  \n",
       "1       NaN  NaN   NaN        NaN                  NaN  \n",
       "2       NaN  NaN   NaN        NaN                  NaN  \n",
       "3       NaN  NaN   NaN        NaN                  NaN  \n",
       "4       NaN  NaN   NaN        NaN                  NaN  "
      ]
     },
     "execution_count": 11,
     "metadata": {},
     "output_type": "execute_result"
    }
   ],
   "source": [
    "#Lets join the two dataset and preview it \n",
    "\n",
    "Dataset_joined = Dataset1.merge(Dataset2, how='left', on=['date','center_point_geom'])\n",
    "Dataset_joined.head(5)"
   ]
  },
  {
   "cell_type": "markdown",
   "id": "6470bd85",
   "metadata": {},
   "source": [
    "The preview confirms that the new dataframe is missing some data."
   ]
  },
  {
   "cell_type": "markdown",
   "id": "8f844971",
   "metadata": {},
   "source": [
    "## Data Overview and Joining\n",
    "\n",
    "Check for missing data in the joined dataset and preview the joined dataset information."
   ]
  },
  {
   "cell_type": "code",
   "execution_count": 17,
   "id": "c60801cd",
   "metadata": {},
   "outputs": [
    {
     "name": "stdout",
     "output_type": "stream",
     "text": [
      "The number of rows and colums of null value dataframe is (393830, 10)\n"
     ]
    }
   ],
   "source": [
    "Dataset_null = Dataset_joined[pd.isnull(Dataset_joined['state_code'])] \n",
    "print(f'The number of rows and colums of null value dataframe is', Dataset_null.shape)"
   ]
  },
  {
   "cell_type": "code",
   "execution_count": 20,
   "id": "9d76301e",
   "metadata": {},
   "outputs": [
    {
     "name": "stdout",
     "output_type": "stream",
     "text": [
      "<class 'pandas.core.frame.DataFrame'>\n",
      "Int64Index: 717530 entries, 0 to 717529\n",
      "Data columns (total 10 columns):\n",
      " #   Column               Non-Null Count   Dtype  \n",
      "---  ------               --------------   -----  \n",
      " 0   date                 717530 non-null  object \n",
      " 1   center_point_geom    717530 non-null  object \n",
      " 2   longitude            717530 non-null  float64\n",
      " 3   latitude             717530 non-null  float64\n",
      " 4   number_of_strikes_x  717530 non-null  int64  \n",
      " 5   zip_code             323700 non-null  float64\n",
      " 6   city                 323700 non-null  object \n",
      " 7   state                323700 non-null  object \n",
      " 8   state_code           323700 non-null  object \n",
      " 9   number_of_strikes_y  323700 non-null  float64\n",
      "dtypes: float64(4), int64(1), object(5)\n",
      "memory usage: 60.2+ MB\n"
     ]
    }
   ],
   "source": [
    "#Preview it \n",
    "\n",
    "Dataset_joined.info()"
   ]
  },
  {
   "cell_type": "markdown",
   "id": "65463a28",
   "metadata": {},
   "source": [
    "It can be observed that the non-null count of `state_code` is 393830. "
   ]
  },
  {
   "cell_type": "markdown",
   "id": "e11f6a6e",
   "metadata": {},
   "source": [
    "## Data Analysis\n",
    "\n",
    "Create a new DataFrame of just latitude, longitude, and the number of strikes, group by latitude and longitude, and plot the geographical position of missing data lightning strikes using Plotly Express."
   ]
  },
  {
   "cell_type": "code",
   "execution_count": 23,
   "id": "4bbedb69",
   "metadata": {},
   "outputs": [],
   "source": [
    "# Let's create a new df of just latitude, longitude, and number of strikes and group by latitude and longitude\n",
    "\n",
    "Dataset_null_Lat_Long = Dataset_null[['longitude', 'latitude', 'number_of_strikes_x']].groupby(by = 'number_of_strikes_x').sum().sort_values('number_of_strikes_x',ascending=False).reset_index()"
   ]
  },
  {
   "cell_type": "code",
   "execution_count": 24,
   "id": "6f2a9cdc",
   "metadata": {},
   "outputs": [
    {
     "data": {
      "text/html": [
       "<div>\n",
       "<style scoped>\n",
       "    .dataframe tbody tr th:only-of-type {\n",
       "        vertical-align: middle;\n",
       "    }\n",
       "\n",
       "    .dataframe tbody tr th {\n",
       "        vertical-align: top;\n",
       "    }\n",
       "\n",
       "    .dataframe thead th {\n",
       "        text-align: right;\n",
       "    }\n",
       "</style>\n",
       "<table border=\"1\" class=\"dataframe\">\n",
       "  <thead>\n",
       "    <tr style=\"text-align: right;\">\n",
       "      <th></th>\n",
       "      <th>number_of_strikes_x</th>\n",
       "      <th>longitude</th>\n",
       "      <th>latitude</th>\n",
       "    </tr>\n",
       "  </thead>\n",
       "  <tbody>\n",
       "    <tr>\n",
       "      <th>0</th>\n",
       "      <td>1494</td>\n",
       "      <td>-80.2</td>\n",
       "      <td>21.3</td>\n",
       "    </tr>\n",
       "    <tr>\n",
       "      <th>1</th>\n",
       "      <td>1260</td>\n",
       "      <td>-85.5</td>\n",
       "      <td>24.3</td>\n",
       "    </tr>\n",
       "    <tr>\n",
       "      <th>2</th>\n",
       "      <td>1044</td>\n",
       "      <td>-75.5</td>\n",
       "      <td>36.9</td>\n",
       "    </tr>\n",
       "    <tr>\n",
       "      <th>3</th>\n",
       "      <td>1026</td>\n",
       "      <td>-80.4</td>\n",
       "      <td>22.4</td>\n",
       "    </tr>\n",
       "    <tr>\n",
       "      <th>4</th>\n",
       "      <td>1023</td>\n",
       "      <td>-84.2</td>\n",
       "      <td>22.2</td>\n",
       "    </tr>\n",
       "    <tr>\n",
       "      <th>...</th>\n",
       "      <td>...</td>\n",
       "      <td>...</td>\n",
       "      <td>...</td>\n",
       "    </tr>\n",
       "    <tr>\n",
       "      <th>458</th>\n",
       "      <td>5</td>\n",
       "      <td>-794464.0</td>\n",
       "      <td>270635.3</td>\n",
       "    </tr>\n",
       "    <tr>\n",
       "      <th>459</th>\n",
       "      <td>4</td>\n",
       "      <td>-1015619.5</td>\n",
       "      <td>345967.1</td>\n",
       "    </tr>\n",
       "    <tr>\n",
       "      <th>460</th>\n",
       "      <td>3</td>\n",
       "      <td>-6883831.3</td>\n",
       "      <td>2366209.4</td>\n",
       "    </tr>\n",
       "    <tr>\n",
       "      <th>461</th>\n",
       "      <td>2</td>\n",
       "      <td>-2246552.8</td>\n",
       "      <td>766160.6</td>\n",
       "    </tr>\n",
       "    <tr>\n",
       "      <th>462</th>\n",
       "      <td>1</td>\n",
       "      <td>-4581493.9</td>\n",
       "      <td>1551118.0</td>\n",
       "    </tr>\n",
       "  </tbody>\n",
       "</table>\n",
       "<p>463 rows × 3 columns</p>\n",
       "</div>"
      ],
      "text/plain": [
       "     number_of_strikes_x  longitude   latitude\n",
       "0                   1494      -80.2       21.3\n",
       "1                   1260      -85.5       24.3\n",
       "2                   1044      -75.5       36.9\n",
       "3                   1026      -80.4       22.4\n",
       "4                   1023      -84.2       22.2\n",
       "..                   ...        ...        ...\n",
       "458                    5  -794464.0   270635.3\n",
       "459                    4 -1015619.5   345967.1\n",
       "460                    3 -6883831.3  2366209.4\n",
       "461                    2 -2246552.8   766160.6\n",
       "462                    1 -4581493.9  1551118.0\n",
       "\n",
       "[463 rows x 3 columns]"
      ]
     },
     "execution_count": 24,
     "metadata": {},
     "output_type": "execute_result"
    }
   ],
   "source": [
    "#Preview it \n",
    "\n",
    "Dataset_null_Lat_Long"
   ]
  },
  {
   "cell_type": "code",
   "execution_count": 28,
   "id": "dfd46f44",
   "metadata": {},
   "outputs": [
    {
     "data": {
      "application/vnd.plotly.v1+json": {
       "config": {
        "plotlyServerURL": "https://plot.ly"
       },
       "data": [
        {
         "geo": "geo",
         "hovertemplate": "number_of_strikes_x=%{marker.size}<br>latitude=%{lat}<br>longitude=%{lon}<extra></extra>",
         "lat": [
          21.3,
          24.300000000000004,
          36.89999999999999,
          22.4,
          22.2,
          23.7,
          35.8,
          21.200000000000003,
          58.19999999999999,
          37,
          23.000000000000004,
          23.1,
          23,
          22.6,
          36.9,
          37.1,
          35.8,
          34.2,
          33.900000000000006,
          27.100000000000005,
          43.4,
          37,
          45.3,
          63.50000000000001,
          22.8,
          22.9,
          67.1,
          23,
          43.3,
          86.6,
          38.1,
          33.20000000000001,
          65.5,
          22.3,
          30.600000000000005,
          43.4,
          80.7,
          45.9,
          21.5,
          26.4,
          50,
          27.100000000000005,
          30.300000000000004,
          43.2,
          86.8,
          29.699999999999992,
          37.10000000000001,
          78.9,
          43.4,
          47.9,
          22.3,
          28.3,
          24.1,
          23.1,
          73.1,
          52.300000000000004,
          34.00000000000001,
          80.5,
          86.4,
          67.4,
          53,
          47.4,
          71.6,
          115.3,
          21.200000000000003,
          43.3,
          53.7,
          44.9,
          22.3,
          244.8,
          75.9,
          174.7,
          106,
          83.69999999999999,
          83.2,
          21.700000000000003,
          68,
          74.49999999999999,
          21.5,
          92.8,
          86.4,
          69.4,
          48.4,
          281.3,
          65.9,
          111.4,
          27.7,
          153.1,
          154,
          110.9,
          29.200000000000003,
          148.8,
          68.5,
          116.9,
          55.599999999999994,
          159.6,
          237.4,
          84.6,
          66.6,
          73.1,
          86.9,
          120.60000000000001,
          81.2,
          102.2,
          275.1,
          240.4,
          21.5,
          220.5,
          146.4,
          105.5,
          169.5,
          70.6,
          110.3,
          232.6,
          87.10000000000001,
          162.7,
          135.39999999999998,
          282.40000000000003,
          149.2,
          244.9,
          222.2,
          181.7,
          225.8,
          123.5,
          286.6,
          334.7,
          185.70000000000002,
          214.6,
          127.60000000000001,
          257.5,
          241.1,
          378.2,
          217.4,
          243.90000000000003,
          174.9,
          446,
          480.5,
          351.6,
          196.5,
          236.20000000000002,
          22.8,
          471.9,
          273.7,
          45.2,
          310.8,
          322.1,
          475.6,
          362.5,
          57.900000000000006,
          416.4,
          316.9,
          320.5,
          295.7,
          489,
          436.20000000000005,
          34.9,
          471.70000000000005,
          53,
          877.6,
          498.3,
          28.2,
          427.5,
          542.4,
          32.4,
          411.5,
          282.9,
          881,
          646.8,
          36.8,
          626.2,
          588.3,
          26.7,
          750.9,
          34.3,
          568.3000000000001,
          29.500000000000004,
          882.7,
          541.1,
          956.4000000000001,
          35.8,
          799.8,
          686.1,
          26.4,
          1129.6000000000001,
          666.4
         ],
         "legendgroup": "",
         "lon": [
          -80.2,
          -85.5,
          -75.5,
          -80.4,
          -84.2,
          -84.1,
          -74,
          -79,
          -182.7,
          -75.6,
          -82.2,
          -83,
          -81.8,
          -83.1,
          -75.6,
          -76.2,
          -74.1,
          -100,
          -100,
          -82.5,
          -86.6,
          -75.7,
          -166.5,
          -156.39999999999998,
          -82.3,
          -83,
          -171.6,
          -82.8,
          -87.4,
          -174,
          -75.9,
          -109.7,
          -159.2,
          -81.40000000000002,
          -86.6,
          -86.7,
          -270.4,
          -164,
          -78.8,
          -107.4,
          -167,
          -82.60000000000001,
          -85.90000000000002,
          -87.4,
          -174.5,
          -87.2,
          -76,
          -266.8,
          -87.2,
          -160.60000000000002,
          -81,
          -90.5,
          -85,
          -82,
          -196.9,
          -195.6,
          -100.6,
          -163.39999999999998,
          -174.1,
          -170.89999999999998,
          -170.9,
          -183.8,
          -170.5,
          -254.9,
          -79.1,
          -86.4,
          -178.6,
          -163.10000000000002,
          -80.4,
          -690.4,
          -177,
          -539.5,
          -298.8,
          -291.1,
          -305.8,
          -83,
          -250.5,
          -244.4,
          -82.2,
          -249.89999999999998,
          -173.7,
          -169.1,
          -159.8,
          -792.3,
          -171,
          -380,
          -82.7,
          -491.5,
          -486.8,
          -329.5,
          -109.5,
          -496.8,
          -244.60000000000002,
          -279,
          -190.60000000000002,
          -489.9,
          -746.6,
          -257.3,
          -249.5,
          -179.39999999999998,
          -252.7,
          -339.5,
          -272.1,
          -334,
          -732.3,
          -627.6,
          -79,
          -673.3,
          -334.8,
          -322.1,
          -450.20000000000005,
          -242.8,
          -354.7,
          -678.5,
          -247.10000000000002,
          -522.7,
          -487,
          -876.7,
          -520,
          -802.1,
          -725,
          -624.7,
          -668.1,
          -418.5,
          -846.1,
          -1135.7,
          -576.1,
          -596.1,
          -468.5,
          -756.6,
          -829.6,
          -1228,
          -561.3,
          -718,
          -521.5,
          -1339.1,
          -1387.6,
          -1187.3,
          -722.9,
          -798.2,
          -82.5,
          -1361,
          -897.8,
          -163.2,
          -947.8,
          -1019.9,
          -1566.1,
          -1115.2,
          -149.10000000000002,
          -1356.9,
          -1060.9,
          -989.7,
          -908.1,
          -1566.6,
          -1276.1,
          -74,
          -1540.7,
          -166.89999999999998,
          -2636.3,
          -1582.2,
          -109.3,
          -1436.7,
          -1733.4,
          -79.4,
          -1403.2,
          -947.2,
          -2434.1,
          -1846.4,
          -71.9,
          -1845.1,
          -1908.3,
          -109.4,
          -2299.7,
          -73.2,
          -1737.8,
          -83.5,
          -2753,
          -1540.3,
          -3113.8,
          -73.60000000000001,
          -2635.4,
          -2128.3,
          -108.8,
          -3552.8,
          -2362.1
         ],
         "marker": {
          "color": "#636efa",
          "size": [
           1494,
           1260,
           1044,
           1026,
           1023,
           1014,
           999,
           966,
           963,
           954,
           951,
           936,
           933,
           918,
           915,
           882,
           870,
           861,
           855,
           840,
           834,
           825,
           813,
           804,
           801,
           798,
           789,
           783,
           780,
           777,
           774,
           771,
           768,
           765,
           759,
           750,
           747,
           726,
           720,
           717,
           714,
           711,
           708,
           705,
           702,
           699,
           696,
           693,
           687,
           681,
           678,
           675,
           672,
           669,
           663,
           660,
           654,
           651,
           648,
           645,
           642,
           639,
           636,
           633,
           630,
           627,
           624,
           621,
           615,
           612,
           609,
           606,
           603,
           600,
           597,
           594,
           588,
           585,
           582,
           579,
           576,
           573,
           570,
           567,
           564,
           561,
           558,
           552,
           549,
           546,
           543,
           540,
           537,
           534,
           531,
           528,
           525,
           522,
           519,
           516,
           513,
           510,
           507,
           504,
           501,
           498,
           495,
           492,
           489,
           486,
           483,
           480,
           477,
           474,
           471,
           468,
           465,
           462,
           459,
           456,
           453,
           450,
           447,
           444,
           441,
           438,
           435,
           432,
           429,
           426,
           423,
           420,
           417,
           414,
           411,
           408,
           405,
           402,
           399,
           396,
           395,
           393,
           390,
           389,
           387,
           384,
           381,
           378,
           377,
           375,
           372,
           369,
           366,
           363,
           360,
           359,
           357,
           355,
           354,
           351,
           349,
           348,
           345,
           343,
           342,
           339,
           336,
           333,
           332,
           330,
           327,
           325,
           324,
           323,
           321,
           319,
           318,
           315,
           312,
           311,
           309,
           306,
           305,
           303,
           300
          ],
          "sizemode": "area",
          "sizeref": 3.735,
          "symbol": "circle"
         },
         "mode": "markers",
         "name": "",
         "showlegend": false,
         "type": "scattergeo"
        }
       ],
       "layout": {
        "geo": {
         "center": {},
         "domain": {
          "x": [
           0,
           1
          ],
          "y": [
           0,
           1
          ]
         },
         "scope": "usa"
        },
        "legend": {
         "itemsizing": "constant",
         "tracegroupgap": 0
        },
        "margin": {
         "t": 60
        },
        "template": {
         "data": {
          "bar": [
           {
            "error_x": {
             "color": "#2a3f5f"
            },
            "error_y": {
             "color": "#2a3f5f"
            },
            "marker": {
             "line": {
              "color": "#E5ECF6",
              "width": 0.5
             },
             "pattern": {
              "fillmode": "overlay",
              "size": 10,
              "solidity": 0.2
             }
            },
            "type": "bar"
           }
          ],
          "barpolar": [
           {
            "marker": {
             "line": {
              "color": "#E5ECF6",
              "width": 0.5
             },
             "pattern": {
              "fillmode": "overlay",
              "size": 10,
              "solidity": 0.2
             }
            },
            "type": "barpolar"
           }
          ],
          "carpet": [
           {
            "aaxis": {
             "endlinecolor": "#2a3f5f",
             "gridcolor": "white",
             "linecolor": "white",
             "minorgridcolor": "white",
             "startlinecolor": "#2a3f5f"
            },
            "baxis": {
             "endlinecolor": "#2a3f5f",
             "gridcolor": "white",
             "linecolor": "white",
             "minorgridcolor": "white",
             "startlinecolor": "#2a3f5f"
            },
            "type": "carpet"
           }
          ],
          "choropleth": [
           {
            "colorbar": {
             "outlinewidth": 0,
             "ticks": ""
            },
            "type": "choropleth"
           }
          ],
          "contour": [
           {
            "colorbar": {
             "outlinewidth": 0,
             "ticks": ""
            },
            "colorscale": [
             [
              0,
              "#0d0887"
             ],
             [
              0.1111111111111111,
              "#46039f"
             ],
             [
              0.2222222222222222,
              "#7201a8"
             ],
             [
              0.3333333333333333,
              "#9c179e"
             ],
             [
              0.4444444444444444,
              "#bd3786"
             ],
             [
              0.5555555555555556,
              "#d8576b"
             ],
             [
              0.6666666666666666,
              "#ed7953"
             ],
             [
              0.7777777777777778,
              "#fb9f3a"
             ],
             [
              0.8888888888888888,
              "#fdca26"
             ],
             [
              1,
              "#f0f921"
             ]
            ],
            "type": "contour"
           }
          ],
          "contourcarpet": [
           {
            "colorbar": {
             "outlinewidth": 0,
             "ticks": ""
            },
            "type": "contourcarpet"
           }
          ],
          "heatmap": [
           {
            "colorbar": {
             "outlinewidth": 0,
             "ticks": ""
            },
            "colorscale": [
             [
              0,
              "#0d0887"
             ],
             [
              0.1111111111111111,
              "#46039f"
             ],
             [
              0.2222222222222222,
              "#7201a8"
             ],
             [
              0.3333333333333333,
              "#9c179e"
             ],
             [
              0.4444444444444444,
              "#bd3786"
             ],
             [
              0.5555555555555556,
              "#d8576b"
             ],
             [
              0.6666666666666666,
              "#ed7953"
             ],
             [
              0.7777777777777778,
              "#fb9f3a"
             ],
             [
              0.8888888888888888,
              "#fdca26"
             ],
             [
              1,
              "#f0f921"
             ]
            ],
            "type": "heatmap"
           }
          ],
          "heatmapgl": [
           {
            "colorbar": {
             "outlinewidth": 0,
             "ticks": ""
            },
            "colorscale": [
             [
              0,
              "#0d0887"
             ],
             [
              0.1111111111111111,
              "#46039f"
             ],
             [
              0.2222222222222222,
              "#7201a8"
             ],
             [
              0.3333333333333333,
              "#9c179e"
             ],
             [
              0.4444444444444444,
              "#bd3786"
             ],
             [
              0.5555555555555556,
              "#d8576b"
             ],
             [
              0.6666666666666666,
              "#ed7953"
             ],
             [
              0.7777777777777778,
              "#fb9f3a"
             ],
             [
              0.8888888888888888,
              "#fdca26"
             ],
             [
              1,
              "#f0f921"
             ]
            ],
            "type": "heatmapgl"
           }
          ],
          "histogram": [
           {
            "marker": {
             "pattern": {
              "fillmode": "overlay",
              "size": 10,
              "solidity": 0.2
             }
            },
            "type": "histogram"
           }
          ],
          "histogram2d": [
           {
            "colorbar": {
             "outlinewidth": 0,
             "ticks": ""
            },
            "colorscale": [
             [
              0,
              "#0d0887"
             ],
             [
              0.1111111111111111,
              "#46039f"
             ],
             [
              0.2222222222222222,
              "#7201a8"
             ],
             [
              0.3333333333333333,
              "#9c179e"
             ],
             [
              0.4444444444444444,
              "#bd3786"
             ],
             [
              0.5555555555555556,
              "#d8576b"
             ],
             [
              0.6666666666666666,
              "#ed7953"
             ],
             [
              0.7777777777777778,
              "#fb9f3a"
             ],
             [
              0.8888888888888888,
              "#fdca26"
             ],
             [
              1,
              "#f0f921"
             ]
            ],
            "type": "histogram2d"
           }
          ],
          "histogram2dcontour": [
           {
            "colorbar": {
             "outlinewidth": 0,
             "ticks": ""
            },
            "colorscale": [
             [
              0,
              "#0d0887"
             ],
             [
              0.1111111111111111,
              "#46039f"
             ],
             [
              0.2222222222222222,
              "#7201a8"
             ],
             [
              0.3333333333333333,
              "#9c179e"
             ],
             [
              0.4444444444444444,
              "#bd3786"
             ],
             [
              0.5555555555555556,
              "#d8576b"
             ],
             [
              0.6666666666666666,
              "#ed7953"
             ],
             [
              0.7777777777777778,
              "#fb9f3a"
             ],
             [
              0.8888888888888888,
              "#fdca26"
             ],
             [
              1,
              "#f0f921"
             ]
            ],
            "type": "histogram2dcontour"
           }
          ],
          "mesh3d": [
           {
            "colorbar": {
             "outlinewidth": 0,
             "ticks": ""
            },
            "type": "mesh3d"
           }
          ],
          "parcoords": [
           {
            "line": {
             "colorbar": {
              "outlinewidth": 0,
              "ticks": ""
             }
            },
            "type": "parcoords"
           }
          ],
          "pie": [
           {
            "automargin": true,
            "type": "pie"
           }
          ],
          "scatter": [
           {
            "fillpattern": {
             "fillmode": "overlay",
             "size": 10,
             "solidity": 0.2
            },
            "type": "scatter"
           }
          ],
          "scatter3d": [
           {
            "line": {
             "colorbar": {
              "outlinewidth": 0,
              "ticks": ""
             }
            },
            "marker": {
             "colorbar": {
              "outlinewidth": 0,
              "ticks": ""
             }
            },
            "type": "scatter3d"
           }
          ],
          "scattercarpet": [
           {
            "marker": {
             "colorbar": {
              "outlinewidth": 0,
              "ticks": ""
             }
            },
            "type": "scattercarpet"
           }
          ],
          "scattergeo": [
           {
            "marker": {
             "colorbar": {
              "outlinewidth": 0,
              "ticks": ""
             }
            },
            "type": "scattergeo"
           }
          ],
          "scattergl": [
           {
            "marker": {
             "colorbar": {
              "outlinewidth": 0,
              "ticks": ""
             }
            },
            "type": "scattergl"
           }
          ],
          "scattermapbox": [
           {
            "marker": {
             "colorbar": {
              "outlinewidth": 0,
              "ticks": ""
             }
            },
            "type": "scattermapbox"
           }
          ],
          "scatterpolar": [
           {
            "marker": {
             "colorbar": {
              "outlinewidth": 0,
              "ticks": ""
             }
            },
            "type": "scatterpolar"
           }
          ],
          "scatterpolargl": [
           {
            "marker": {
             "colorbar": {
              "outlinewidth": 0,
              "ticks": ""
             }
            },
            "type": "scatterpolargl"
           }
          ],
          "scatterternary": [
           {
            "marker": {
             "colorbar": {
              "outlinewidth": 0,
              "ticks": ""
             }
            },
            "type": "scatterternary"
           }
          ],
          "surface": [
           {
            "colorbar": {
             "outlinewidth": 0,
             "ticks": ""
            },
            "colorscale": [
             [
              0,
              "#0d0887"
             ],
             [
              0.1111111111111111,
              "#46039f"
             ],
             [
              0.2222222222222222,
              "#7201a8"
             ],
             [
              0.3333333333333333,
              "#9c179e"
             ],
             [
              0.4444444444444444,
              "#bd3786"
             ],
             [
              0.5555555555555556,
              "#d8576b"
             ],
             [
              0.6666666666666666,
              "#ed7953"
             ],
             [
              0.7777777777777778,
              "#fb9f3a"
             ],
             [
              0.8888888888888888,
              "#fdca26"
             ],
             [
              1,
              "#f0f921"
             ]
            ],
            "type": "surface"
           }
          ],
          "table": [
           {
            "cells": {
             "fill": {
              "color": "#EBF0F8"
             },
             "line": {
              "color": "white"
             }
            },
            "header": {
             "fill": {
              "color": "#C8D4E3"
             },
             "line": {
              "color": "white"
             }
            },
            "type": "table"
           }
          ]
         },
         "layout": {
          "annotationdefaults": {
           "arrowcolor": "#2a3f5f",
           "arrowhead": 0,
           "arrowwidth": 1
          },
          "autotypenumbers": "strict",
          "coloraxis": {
           "colorbar": {
            "outlinewidth": 0,
            "ticks": ""
           }
          },
          "colorscale": {
           "diverging": [
            [
             0,
             "#8e0152"
            ],
            [
             0.1,
             "#c51b7d"
            ],
            [
             0.2,
             "#de77ae"
            ],
            [
             0.3,
             "#f1b6da"
            ],
            [
             0.4,
             "#fde0ef"
            ],
            [
             0.5,
             "#f7f7f7"
            ],
            [
             0.6,
             "#e6f5d0"
            ],
            [
             0.7,
             "#b8e186"
            ],
            [
             0.8,
             "#7fbc41"
            ],
            [
             0.9,
             "#4d9221"
            ],
            [
             1,
             "#276419"
            ]
           ],
           "sequential": [
            [
             0,
             "#0d0887"
            ],
            [
             0.1111111111111111,
             "#46039f"
            ],
            [
             0.2222222222222222,
             "#7201a8"
            ],
            [
             0.3333333333333333,
             "#9c179e"
            ],
            [
             0.4444444444444444,
             "#bd3786"
            ],
            [
             0.5555555555555556,
             "#d8576b"
            ],
            [
             0.6666666666666666,
             "#ed7953"
            ],
            [
             0.7777777777777778,
             "#fb9f3a"
            ],
            [
             0.8888888888888888,
             "#fdca26"
            ],
            [
             1,
             "#f0f921"
            ]
           ],
           "sequentialminus": [
            [
             0,
             "#0d0887"
            ],
            [
             0.1111111111111111,
             "#46039f"
            ],
            [
             0.2222222222222222,
             "#7201a8"
            ],
            [
             0.3333333333333333,
             "#9c179e"
            ],
            [
             0.4444444444444444,
             "#bd3786"
            ],
            [
             0.5555555555555556,
             "#d8576b"
            ],
            [
             0.6666666666666666,
             "#ed7953"
            ],
            [
             0.7777777777777778,
             "#fb9f3a"
            ],
            [
             0.8888888888888888,
             "#fdca26"
            ],
            [
             1,
             "#f0f921"
            ]
           ]
          },
          "colorway": [
           "#636efa",
           "#EF553B",
           "#00cc96",
           "#ab63fa",
           "#FFA15A",
           "#19d3f3",
           "#FF6692",
           "#B6E880",
           "#FF97FF",
           "#FECB52"
          ],
          "font": {
           "color": "#2a3f5f"
          },
          "geo": {
           "bgcolor": "white",
           "lakecolor": "white",
           "landcolor": "#E5ECF6",
           "showlakes": true,
           "showland": true,
           "subunitcolor": "white"
          },
          "hoverlabel": {
           "align": "left"
          },
          "hovermode": "closest",
          "mapbox": {
           "style": "light"
          },
          "paper_bgcolor": "white",
          "plot_bgcolor": "#E5ECF6",
          "polar": {
           "angularaxis": {
            "gridcolor": "white",
            "linecolor": "white",
            "ticks": ""
           },
           "bgcolor": "#E5ECF6",
           "radialaxis": {
            "gridcolor": "white",
            "linecolor": "white",
            "ticks": ""
           }
          },
          "scene": {
           "xaxis": {
            "backgroundcolor": "#E5ECF6",
            "gridcolor": "white",
            "gridwidth": 2,
            "linecolor": "white",
            "showbackground": true,
            "ticks": "",
            "zerolinecolor": "white"
           },
           "yaxis": {
            "backgroundcolor": "#E5ECF6",
            "gridcolor": "white",
            "gridwidth": 2,
            "linecolor": "white",
            "showbackground": true,
            "ticks": "",
            "zerolinecolor": "white"
           },
           "zaxis": {
            "backgroundcolor": "#E5ECF6",
            "gridcolor": "white",
            "gridwidth": 2,
            "linecolor": "white",
            "showbackground": true,
            "ticks": "",
            "zerolinecolor": "white"
           }
          },
          "shapedefaults": {
           "line": {
            "color": "#2a3f5f"
           }
          },
          "ternary": {
           "aaxis": {
            "gridcolor": "white",
            "linecolor": "white",
            "ticks": ""
           },
           "baxis": {
            "gridcolor": "white",
            "linecolor": "white",
            "ticks": ""
           },
           "bgcolor": "#E5ECF6",
           "caxis": {
            "gridcolor": "white",
            "linecolor": "white",
            "ticks": ""
           }
          },
          "title": {
           "x": 0.05
          },
          "xaxis": {
           "automargin": true,
           "gridcolor": "white",
           "linecolor": "white",
           "ticks": "",
           "title": {
            "standoff": 15
           },
           "zerolinecolor": "white",
           "zerolinewidth": 2
          },
          "yaxis": {
           "automargin": true,
           "gridcolor": "white",
           "linecolor": "white",
           "ticks": "",
           "title": {
            "standoff": 15
           },
           "zerolinecolor": "white",
           "zerolinewidth": 2
          }
         }
        },
        "title": {
         "text": "Missing data"
        }
       }
      },
      "text/html": [
       "<div>                            <div id=\"990989b4-3f43-4c1b-9ef4-0eb7f1a8a493\" class=\"plotly-graph-div\" style=\"height:525px; width:100%;\"></div>            <script type=\"text/javascript\">                require([\"plotly\"], function(Plotly) {                    window.PLOTLYENV=window.PLOTLYENV || {};                                    if (document.getElementById(\"990989b4-3f43-4c1b-9ef4-0eb7f1a8a493\")) {                    Plotly.newPlot(                        \"990989b4-3f43-4c1b-9ef4-0eb7f1a8a493\",                        [{\"geo\":\"geo\",\"hovertemplate\":\"number_of_strikes_x=%{marker.size}<br>latitude=%{lat}<br>longitude=%{lon}<extra></extra>\",\"lat\":[21.3,24.300000000000004,36.89999999999999,22.4,22.2,23.7,35.8,21.200000000000003,58.19999999999999,37.0,23.000000000000004,23.1,23.0,22.6,36.9,37.1,35.8,34.2,33.900000000000006,27.100000000000005,43.4,37.0,45.3,63.50000000000001,22.8,22.9,67.1,23.0,43.3,86.6,38.1,33.20000000000001,65.5,22.3,30.600000000000005,43.4,80.7,45.9,21.5,26.4,50.0,27.100000000000005,30.300000000000004,43.2,86.8,29.699999999999992,37.10000000000001,78.9,43.4,47.9,22.3,28.3,24.1,23.1,73.1,52.300000000000004,34.00000000000001,80.5,86.4,67.4,53.0,47.4,71.6,115.3,21.200000000000003,43.3,53.7,44.9,22.3,244.8,75.9,174.7,106.0,83.69999999999999,83.2,21.700000000000003,68.0,74.49999999999999,21.5,92.8,86.4,69.4,48.4,281.3,65.9,111.4,27.7,153.1,154.0,110.9,29.200000000000003,148.8,68.5,116.9,55.599999999999994,159.6,237.4,84.6,66.6,73.1,86.9,120.60000000000001,81.2,102.2,275.1,240.4,21.5,220.5,146.4,105.5,169.5,70.6,110.3,232.6,87.10000000000001,162.7,135.39999999999998,282.40000000000003,149.2,244.9,222.2,181.7,225.8,123.5,286.6,334.7,185.70000000000002,214.6,127.60000000000001,257.5,241.1,378.2,217.4,243.90000000000003,174.9,446.0,480.5,351.6,196.5,236.20000000000002,22.8,471.9,273.7,45.2,310.8,322.1,475.6,362.5,57.900000000000006,416.4,316.9,320.5,295.7,489.0,436.20000000000005,34.9,471.70000000000005,53.0,877.6,498.3,28.2,427.5,542.4,32.4,411.5,282.9,881.0,646.8,36.8,626.2,588.3,26.7,750.9,34.3,568.3000000000001,29.500000000000004,882.7,541.1,956.4000000000001,35.8,799.8,686.1,26.4,1129.6000000000001,666.4],\"legendgroup\":\"\",\"lon\":[-80.2,-85.5,-75.5,-80.4,-84.2,-84.1,-74.0,-79.0,-182.7,-75.6,-82.2,-83.0,-81.8,-83.1,-75.6,-76.2,-74.1,-100.0,-100.0,-82.5,-86.6,-75.7,-166.5,-156.39999999999998,-82.3,-83.0,-171.6,-82.8,-87.4,-174.0,-75.9,-109.7,-159.2,-81.40000000000002,-86.6,-86.7,-270.4,-164.0,-78.8,-107.4,-167.0,-82.60000000000001,-85.90000000000002,-87.4,-174.5,-87.2,-76.0,-266.8,-87.2,-160.60000000000002,-81.0,-90.5,-85.0,-82.0,-196.9,-195.6,-100.6,-163.39999999999998,-174.1,-170.89999999999998,-170.9,-183.8,-170.5,-254.9,-79.1,-86.4,-178.6,-163.10000000000002,-80.4,-690.4,-177.0,-539.5,-298.8,-291.1,-305.8,-83.0,-250.5,-244.4,-82.2,-249.89999999999998,-173.7,-169.1,-159.8,-792.3,-171.0,-380.0,-82.7,-491.5,-486.8,-329.5,-109.5,-496.8,-244.60000000000002,-279.0,-190.60000000000002,-489.9,-746.6,-257.3,-249.5,-179.39999999999998,-252.7,-339.5,-272.1,-334.0,-732.3,-627.6,-79.0,-673.3,-334.8,-322.1,-450.20000000000005,-242.8,-354.7,-678.5,-247.10000000000002,-522.7,-487.0,-876.7,-520.0,-802.1,-725.0,-624.7,-668.1,-418.5,-846.1,-1135.7,-576.1,-596.1,-468.5,-756.6,-829.6,-1228.0,-561.3,-718.0,-521.5,-1339.1,-1387.6,-1187.3,-722.9,-798.2,-82.5,-1361.0,-897.8,-163.2,-947.8,-1019.9,-1566.1,-1115.2,-149.10000000000002,-1356.9,-1060.9,-989.7,-908.1,-1566.6,-1276.1,-74.0,-1540.7,-166.89999999999998,-2636.3,-1582.2,-109.3,-1436.7,-1733.4,-79.4,-1403.2,-947.2,-2434.1,-1846.4,-71.9,-1845.1,-1908.3,-109.4,-2299.7,-73.2,-1737.8,-83.5,-2753.0,-1540.3,-3113.8,-73.60000000000001,-2635.4,-2128.3,-108.8,-3552.8,-2362.1],\"marker\":{\"color\":\"#636efa\",\"size\":[1494,1260,1044,1026,1023,1014,999,966,963,954,951,936,933,918,915,882,870,861,855,840,834,825,813,804,801,798,789,783,780,777,774,771,768,765,759,750,747,726,720,717,714,711,708,705,702,699,696,693,687,681,678,675,672,669,663,660,654,651,648,645,642,639,636,633,630,627,624,621,615,612,609,606,603,600,597,594,588,585,582,579,576,573,570,567,564,561,558,552,549,546,543,540,537,534,531,528,525,522,519,516,513,510,507,504,501,498,495,492,489,486,483,480,477,474,471,468,465,462,459,456,453,450,447,444,441,438,435,432,429,426,423,420,417,414,411,408,405,402,399,396,395,393,390,389,387,384,381,378,377,375,372,369,366,363,360,359,357,355,354,351,349,348,345,343,342,339,336,333,332,330,327,325,324,323,321,319,318,315,312,311,309,306,305,303,300],\"sizemode\":\"area\",\"sizeref\":3.735,\"symbol\":\"circle\"},\"mode\":\"markers\",\"name\":\"\",\"showlegend\":false,\"type\":\"scattergeo\"}],                        {\"template\":{\"data\":{\"histogram2dcontour\":[{\"type\":\"histogram2dcontour\",\"colorbar\":{\"outlinewidth\":0,\"ticks\":\"\"},\"colorscale\":[[0.0,\"#0d0887\"],[0.1111111111111111,\"#46039f\"],[0.2222222222222222,\"#7201a8\"],[0.3333333333333333,\"#9c179e\"],[0.4444444444444444,\"#bd3786\"],[0.5555555555555556,\"#d8576b\"],[0.6666666666666666,\"#ed7953\"],[0.7777777777777778,\"#fb9f3a\"],[0.8888888888888888,\"#fdca26\"],[1.0,\"#f0f921\"]]}],\"choropleth\":[{\"type\":\"choropleth\",\"colorbar\":{\"outlinewidth\":0,\"ticks\":\"\"}}],\"histogram2d\":[{\"type\":\"histogram2d\",\"colorbar\":{\"outlinewidth\":0,\"ticks\":\"\"},\"colorscale\":[[0.0,\"#0d0887\"],[0.1111111111111111,\"#46039f\"],[0.2222222222222222,\"#7201a8\"],[0.3333333333333333,\"#9c179e\"],[0.4444444444444444,\"#bd3786\"],[0.5555555555555556,\"#d8576b\"],[0.6666666666666666,\"#ed7953\"],[0.7777777777777778,\"#fb9f3a\"],[0.8888888888888888,\"#fdca26\"],[1.0,\"#f0f921\"]]}],\"heatmap\":[{\"type\":\"heatmap\",\"colorbar\":{\"outlinewidth\":0,\"ticks\":\"\"},\"colorscale\":[[0.0,\"#0d0887\"],[0.1111111111111111,\"#46039f\"],[0.2222222222222222,\"#7201a8\"],[0.3333333333333333,\"#9c179e\"],[0.4444444444444444,\"#bd3786\"],[0.5555555555555556,\"#d8576b\"],[0.6666666666666666,\"#ed7953\"],[0.7777777777777778,\"#fb9f3a\"],[0.8888888888888888,\"#fdca26\"],[1.0,\"#f0f921\"]]}],\"heatmapgl\":[{\"type\":\"heatmapgl\",\"colorbar\":{\"outlinewidth\":0,\"ticks\":\"\"},\"colorscale\":[[0.0,\"#0d0887\"],[0.1111111111111111,\"#46039f\"],[0.2222222222222222,\"#7201a8\"],[0.3333333333333333,\"#9c179e\"],[0.4444444444444444,\"#bd3786\"],[0.5555555555555556,\"#d8576b\"],[0.6666666666666666,\"#ed7953\"],[0.7777777777777778,\"#fb9f3a\"],[0.8888888888888888,\"#fdca26\"],[1.0,\"#f0f921\"]]}],\"contourcarpet\":[{\"type\":\"contourcarpet\",\"colorbar\":{\"outlinewidth\":0,\"ticks\":\"\"}}],\"contour\":[{\"type\":\"contour\",\"colorbar\":{\"outlinewidth\":0,\"ticks\":\"\"},\"colorscale\":[[0.0,\"#0d0887\"],[0.1111111111111111,\"#46039f\"],[0.2222222222222222,\"#7201a8\"],[0.3333333333333333,\"#9c179e\"],[0.4444444444444444,\"#bd3786\"],[0.5555555555555556,\"#d8576b\"],[0.6666666666666666,\"#ed7953\"],[0.7777777777777778,\"#fb9f3a\"],[0.8888888888888888,\"#fdca26\"],[1.0,\"#f0f921\"]]}],\"surface\":[{\"type\":\"surface\",\"colorbar\":{\"outlinewidth\":0,\"ticks\":\"\"},\"colorscale\":[[0.0,\"#0d0887\"],[0.1111111111111111,\"#46039f\"],[0.2222222222222222,\"#7201a8\"],[0.3333333333333333,\"#9c179e\"],[0.4444444444444444,\"#bd3786\"],[0.5555555555555556,\"#d8576b\"],[0.6666666666666666,\"#ed7953\"],[0.7777777777777778,\"#fb9f3a\"],[0.8888888888888888,\"#fdca26\"],[1.0,\"#f0f921\"]]}],\"mesh3d\":[{\"type\":\"mesh3d\",\"colorbar\":{\"outlinewidth\":0,\"ticks\":\"\"}}],\"scatter\":[{\"fillpattern\":{\"fillmode\":\"overlay\",\"size\":10,\"solidity\":0.2},\"type\":\"scatter\"}],\"parcoords\":[{\"type\":\"parcoords\",\"line\":{\"colorbar\":{\"outlinewidth\":0,\"ticks\":\"\"}}}],\"scatterpolargl\":[{\"type\":\"scatterpolargl\",\"marker\":{\"colorbar\":{\"outlinewidth\":0,\"ticks\":\"\"}}}],\"bar\":[{\"error_x\":{\"color\":\"#2a3f5f\"},\"error_y\":{\"color\":\"#2a3f5f\"},\"marker\":{\"line\":{\"color\":\"#E5ECF6\",\"width\":0.5},\"pattern\":{\"fillmode\":\"overlay\",\"size\":10,\"solidity\":0.2}},\"type\":\"bar\"}],\"scattergeo\":[{\"type\":\"scattergeo\",\"marker\":{\"colorbar\":{\"outlinewidth\":0,\"ticks\":\"\"}}}],\"scatterpolar\":[{\"type\":\"scatterpolar\",\"marker\":{\"colorbar\":{\"outlinewidth\":0,\"ticks\":\"\"}}}],\"histogram\":[{\"marker\":{\"pattern\":{\"fillmode\":\"overlay\",\"size\":10,\"solidity\":0.2}},\"type\":\"histogram\"}],\"scattergl\":[{\"type\":\"scattergl\",\"marker\":{\"colorbar\":{\"outlinewidth\":0,\"ticks\":\"\"}}}],\"scatter3d\":[{\"type\":\"scatter3d\",\"line\":{\"colorbar\":{\"outlinewidth\":0,\"ticks\":\"\"}},\"marker\":{\"colorbar\":{\"outlinewidth\":0,\"ticks\":\"\"}}}],\"scattermapbox\":[{\"type\":\"scattermapbox\",\"marker\":{\"colorbar\":{\"outlinewidth\":0,\"ticks\":\"\"}}}],\"scatterternary\":[{\"type\":\"scatterternary\",\"marker\":{\"colorbar\":{\"outlinewidth\":0,\"ticks\":\"\"}}}],\"scattercarpet\":[{\"type\":\"scattercarpet\",\"marker\":{\"colorbar\":{\"outlinewidth\":0,\"ticks\":\"\"}}}],\"carpet\":[{\"aaxis\":{\"endlinecolor\":\"#2a3f5f\",\"gridcolor\":\"white\",\"linecolor\":\"white\",\"minorgridcolor\":\"white\",\"startlinecolor\":\"#2a3f5f\"},\"baxis\":{\"endlinecolor\":\"#2a3f5f\",\"gridcolor\":\"white\",\"linecolor\":\"white\",\"minorgridcolor\":\"white\",\"startlinecolor\":\"#2a3f5f\"},\"type\":\"carpet\"}],\"table\":[{\"cells\":{\"fill\":{\"color\":\"#EBF0F8\"},\"line\":{\"color\":\"white\"}},\"header\":{\"fill\":{\"color\":\"#C8D4E3\"},\"line\":{\"color\":\"white\"}},\"type\":\"table\"}],\"barpolar\":[{\"marker\":{\"line\":{\"color\":\"#E5ECF6\",\"width\":0.5},\"pattern\":{\"fillmode\":\"overlay\",\"size\":10,\"solidity\":0.2}},\"type\":\"barpolar\"}],\"pie\":[{\"automargin\":true,\"type\":\"pie\"}]},\"layout\":{\"autotypenumbers\":\"strict\",\"colorway\":[\"#636efa\",\"#EF553B\",\"#00cc96\",\"#ab63fa\",\"#FFA15A\",\"#19d3f3\",\"#FF6692\",\"#B6E880\",\"#FF97FF\",\"#FECB52\"],\"font\":{\"color\":\"#2a3f5f\"},\"hovermode\":\"closest\",\"hoverlabel\":{\"align\":\"left\"},\"paper_bgcolor\":\"white\",\"plot_bgcolor\":\"#E5ECF6\",\"polar\":{\"bgcolor\":\"#E5ECF6\",\"angularaxis\":{\"gridcolor\":\"white\",\"linecolor\":\"white\",\"ticks\":\"\"},\"radialaxis\":{\"gridcolor\":\"white\",\"linecolor\":\"white\",\"ticks\":\"\"}},\"ternary\":{\"bgcolor\":\"#E5ECF6\",\"aaxis\":{\"gridcolor\":\"white\",\"linecolor\":\"white\",\"ticks\":\"\"},\"baxis\":{\"gridcolor\":\"white\",\"linecolor\":\"white\",\"ticks\":\"\"},\"caxis\":{\"gridcolor\":\"white\",\"linecolor\":\"white\",\"ticks\":\"\"}},\"coloraxis\":{\"colorbar\":{\"outlinewidth\":0,\"ticks\":\"\"}},\"colorscale\":{\"sequential\":[[0.0,\"#0d0887\"],[0.1111111111111111,\"#46039f\"],[0.2222222222222222,\"#7201a8\"],[0.3333333333333333,\"#9c179e\"],[0.4444444444444444,\"#bd3786\"],[0.5555555555555556,\"#d8576b\"],[0.6666666666666666,\"#ed7953\"],[0.7777777777777778,\"#fb9f3a\"],[0.8888888888888888,\"#fdca26\"],[1.0,\"#f0f921\"]],\"sequentialminus\":[[0.0,\"#0d0887\"],[0.1111111111111111,\"#46039f\"],[0.2222222222222222,\"#7201a8\"],[0.3333333333333333,\"#9c179e\"],[0.4444444444444444,\"#bd3786\"],[0.5555555555555556,\"#d8576b\"],[0.6666666666666666,\"#ed7953\"],[0.7777777777777778,\"#fb9f3a\"],[0.8888888888888888,\"#fdca26\"],[1.0,\"#f0f921\"]],\"diverging\":[[0,\"#8e0152\"],[0.1,\"#c51b7d\"],[0.2,\"#de77ae\"],[0.3,\"#f1b6da\"],[0.4,\"#fde0ef\"],[0.5,\"#f7f7f7\"],[0.6,\"#e6f5d0\"],[0.7,\"#b8e186\"],[0.8,\"#7fbc41\"],[0.9,\"#4d9221\"],[1,\"#276419\"]]},\"xaxis\":{\"gridcolor\":\"white\",\"linecolor\":\"white\",\"ticks\":\"\",\"title\":{\"standoff\":15},\"zerolinecolor\":\"white\",\"automargin\":true,\"zerolinewidth\":2},\"yaxis\":{\"gridcolor\":\"white\",\"linecolor\":\"white\",\"ticks\":\"\",\"title\":{\"standoff\":15},\"zerolinecolor\":\"white\",\"automargin\":true,\"zerolinewidth\":2},\"scene\":{\"xaxis\":{\"backgroundcolor\":\"#E5ECF6\",\"gridcolor\":\"white\",\"linecolor\":\"white\",\"showbackground\":true,\"ticks\":\"\",\"zerolinecolor\":\"white\",\"gridwidth\":2},\"yaxis\":{\"backgroundcolor\":\"#E5ECF6\",\"gridcolor\":\"white\",\"linecolor\":\"white\",\"showbackground\":true,\"ticks\":\"\",\"zerolinecolor\":\"white\",\"gridwidth\":2},\"zaxis\":{\"backgroundcolor\":\"#E5ECF6\",\"gridcolor\":\"white\",\"linecolor\":\"white\",\"showbackground\":true,\"ticks\":\"\",\"zerolinecolor\":\"white\",\"gridwidth\":2}},\"shapedefaults\":{\"line\":{\"color\":\"#2a3f5f\"}},\"annotationdefaults\":{\"arrowcolor\":\"#2a3f5f\",\"arrowhead\":0,\"arrowwidth\":1},\"geo\":{\"bgcolor\":\"white\",\"landcolor\":\"#E5ECF6\",\"subunitcolor\":\"white\",\"showland\":true,\"showlakes\":true,\"lakecolor\":\"white\"},\"title\":{\"x\":0.05},\"mapbox\":{\"style\":\"light\"}}},\"geo\":{\"domain\":{\"x\":[0.0,1.0],\"y\":[0.0,1.0]},\"center\":{},\"scope\":\"usa\"},\"legend\":{\"tracegroupgap\":0,\"itemsizing\":\"constant\"},\"margin\":{\"t\":60},\"title\":{\"text\":\"Missing data\"}},                        {\"responsive\": true}                    ).then(function(){\n",
       "                            \n",
       "var gd = document.getElementById('990989b4-3f43-4c1b-9ef4-0eb7f1a8a493');\n",
       "var x = new MutationObserver(function (mutations, observer) {{\n",
       "        var display = window.getComputedStyle(gd).display;\n",
       "        if (!display || display === 'none') {{\n",
       "            console.log([gd, 'removed!']);\n",
       "            Plotly.purge(gd);\n",
       "            observer.disconnect();\n",
       "        }}\n",
       "}});\n",
       "\n",
       "// Listen for the removal of the full notebook cells\n",
       "var notebookContainer = gd.closest('#notebook-container');\n",
       "if (notebookContainer) {{\n",
       "    x.observe(notebookContainer, {childList: true});\n",
       "}}\n",
       "\n",
       "// Listen for the clearing of the current output cell\n",
       "var outputEl = gd.closest('.output');\n",
       "if (outputEl) {{\n",
       "    x.observe(outputEl, {childList: true});\n",
       "}}\n",
       "\n",
       "                        })                };                });            </script>        </div>"
      ]
     },
     "metadata": {},
     "output_type": "display_data"
    }
   ],
   "source": [
    "#Plot the geo position of missing data lightning strike \n",
    "\n",
    "import plotly.express as pltexp\n",
    "\n",
    "Figure = pltexp.scatter_geo(Dataset_null_Lat_Long[Dataset_null_Lat_Long.number_of_strikes_x >= 300],\n",
    "               lat = 'latitude',\n",
    "                lon = 'longitude',\n",
    "                size = 'number_of_strikes_x'\n",
    "               )\n",
    "\n",
    "Figure.update_layout(\n",
    "    title_text = 'Missing data',\n",
    "    geo_scope='usa'\n",
    ")\n",
    "\n",
    "\n",
    "Figure.show()\n",
    "\n",
    "\n",
    "\n",
    "\n"
   ]
  },
  {
   "cell_type": "markdown",
   "id": "d8822e80",
   "metadata": {},
   "source": [
    "# Conclusion \n",
    "\n",
    "It can be observed that most of the lightning strike has occured on water, and that explains why `zip_code`,`city`,\t`state`,`state_code` were missing from the dataset.\t "
   ]
  },
  {
   "cell_type": "code",
   "execution_count": null,
   "id": "2c31b7aa",
   "metadata": {},
   "outputs": [],
   "source": []
  }
 ],
 "metadata": {
  "kernelspec": {
   "display_name": "Python 3 (ipykernel)",
   "language": "python",
   "name": "python3"
  },
  "language_info": {
   "codemirror_mode": {
    "name": "ipython",
    "version": 3
   },
   "file_extension": ".py",
   "mimetype": "text/x-python",
   "name": "python",
   "nbconvert_exporter": "python",
   "pygments_lexer": "ipython3",
   "version": "3.11.4"
  }
 },
 "nbformat": 4,
 "nbformat_minor": 5
}
